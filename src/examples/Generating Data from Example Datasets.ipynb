{
 "cells": [
  {
   "metadata": {},
   "cell_type": "markdown",
   "source": "# Generating Data from Example Datasets",
   "id": "c54a70af4154fab7"
  },
  {
   "metadata": {},
   "cell_type": "markdown",
   "source": "Discover how to extract data structures from existing CSV files and use those structures to generate new data. This notebook demonstrates how to replicate the structure of sample data with new synthesized content using DataWizzAI, making it ideal for data replication and augmentation.",
   "id": "620c87bfb522437f"
  },
  {
   "metadata": {},
   "cell_type": "markdown",
   "source": "# Initial Setup Guide",
   "id": "e232785e685f4b0c"
  },
  {
   "metadata": {},
   "cell_type": "markdown",
   "source": "## Import Required Packages",
   "id": "10727a865192975b"
  },
  {
   "metadata": {
    "ExecuteTime": {
     "end_time": "2024-05-29T19:34:51.454003Z",
     "start_time": "2024-05-29T19:34:50.056166Z"
    }
   },
   "cell_type": "code",
   "source": [
    "# First, import all the necessary packages.\n",
    "from langchain_openai import ChatOpenAI\n",
    "from src.DataDefiner import *\n",
    "from src.DataAugmentor import DataAugmentor\n",
    "from src.utils.utils import parse_output, try_parse_json, create_json_sample_from_csv, compose_query_message\n"
   ],
   "id": "82eb9a9bc9f03062",
   "outputs": [],
   "execution_count": 1
  },
  {
   "metadata": {
    "ExecuteTime": {
     "end_time": "2024-05-29T19:34:51.464676Z",
     "start_time": "2024-05-29T19:34:51.455365Z"
    }
   },
   "cell_type": "code",
   "source": [
    "## Load Environment Variables\n",
    "\n",
    "from dotenv import load_dotenv, find_dotenv\n",
    "_ = load_dotenv(find_dotenv())\n"
   ],
   "id": "1434f6fe6ac96342",
   "outputs": [],
   "execution_count": 2
  },
  {
   "metadata": {},
   "cell_type": "markdown",
   "source": "## Initialize the Language Model",
   "id": "49b35d8b80eff6df"
  },
  {
   "metadata": {
    "ExecuteTime": {
     "end_time": "2024-05-29T19:34:51.976844Z",
     "start_time": "2024-05-29T19:34:51.465683Z"
    }
   },
   "cell_type": "code",
   "source": [
    "# Please make sure OPENAI_API_KEY is loaded to your environment variables\n",
    "# Initialize language model\n",
    "llm = ChatOpenAI(temperature=0.9, model=\"gpt-3.5-turbo\")\n"
   ],
   "id": "b497932a419ec517",
   "outputs": [],
   "execution_count": 3
  },
  {
   "metadata": {},
   "cell_type": "markdown",
   "source": "# Extract Data Structure from CSV",
   "id": "137c57bf399362c9"
  },
  {
   "metadata": {},
   "cell_type": "markdown",
   "source": "To begin, you'll need to specify the path to your CSV file and the file name. Then, use the create_json_sample_from_csv function to extract the data structure.",
   "id": "2e6a1cb692b74326"
  },
  {
   "metadata": {
    "ExecuteTime": {
     "end_time": "2024-05-29T19:36:59.948372Z",
     "start_time": "2024-05-29T19:36:59.926155Z"
    }
   },
   "cell_type": "code",
   "source": [
    "import os\n",
    "import pandas as pd\n",
    "# Specify the path and file name\n",
    "path = r'C:\\Users\\Sigal\\data\\\\'\n",
    "file_name = r\"titanic.csv\"\n",
    "\n",
    "# Extract data structure from the CSV file\n",
    "dataStructureSample = create_json_sample_from_csv(path, file_name)\n",
    "print(dataStructureSample)"
   ],
   "id": "7905f2361902fb58",
   "outputs": [
    {
     "name": "stdout",
     "output_type": "stream",
     "text": [
      "{\"titanic.csv\": [{\"PassengerId\":609,\"Survived\":1,\"Pclass\":2,\"Name\":\"Laroche, Mrs. Joseph (Juliette Marie Louise Lafargue)\",\"Sex\":\"female\",\"Age\":22.0,\"SibSp\":1,\"Parch\":2,\"Ticket\":\"SC\\/Paris 2123\",\"Fare\":41.5792,\"Cabin\":null,\"Embarked\":\"C\"},{\"PassengerId\":600,\"Survived\":1,\"Pclass\":1,\"Name\":\"Duff Gordon, Sir. Cosmo Edmund (\\\\Mr Morgan\\\\\\\")\\\"\",\"Sex\":\"male\",\"Age\":49.0,\"SibSp\":1,\"Parch\":0,\"Ticket\":\"PC 17485\",\"Fare\":56.9292,\"Cabin\":\"A20\",\"Embarked\":\"C\"},{\"PassengerId\":551,\"Survived\":1,\"Pclass\":1,\"Name\":\"Thayer, Mr. John Borland Jr\",\"Sex\":\"male\",\"Age\":17.0,\"SibSp\":0,\"Parch\":2,\"Ticket\":\"17421\",\"Fare\":110.8833,\"Cabin\":\"C70\",\"Embarked\":\"C\"},{\"PassengerId\":645,\"Survived\":1,\"Pclass\":3,\"Name\":\"Baclini, Miss. Eugenie\",\"Sex\":\"female\",\"Age\":0.75,\"SibSp\":2,\"Parch\":1,\"Ticket\":\"2666\",\"Fare\":19.2583,\"Cabin\":null,\"Embarked\":\"C\"},{\"PassengerId\":241,\"Survived\":0,\"Pclass\":3,\"Name\":\"Zabour, Miss. Thamine\",\"Sex\":\"female\",\"Age\":null,\"SibSp\":1,\"Parch\":0,\"Ticket\":\"2665\",\"Fare\":14.4542,\"Cabin\":null,\"Embarked\":\"C\"}]}\n"
     ]
    }
   ],
   "execution_count": 4
  },
  {
   "metadata": {},
   "cell_type": "markdown",
   "source": "## Initialize Data Generator\n",
   "id": "c218ea50028cb43d"
  },
  {
   "metadata": {},
   "cell_type": "markdown",
   "source": "With the data structure extracted, you're ready to initialize the DataAugmentor object that will be used for generating data.",
   "id": "4db58c464e6adf1e"
  },
  {
   "metadata": {
    "ExecuteTime": {
     "end_time": "2024-05-29T19:38:47.352918Z",
     "start_time": "2024-05-29T19:38:47.075059Z"
    }
   },
   "cell_type": "code",
   "source": [
    "# Construct the full file path\n",
    "full_file_path = os.path.join(path, file_name)\n",
    "\n",
    "# Read the CSV file into a DataFrame\n",
    "df = pd.read_csv(full_file_path)\n",
    "\n",
    "# Initialize the DataConsumer with the extracted data structure\n",
    "DataAugmentorObj = DataAugmentor(llm=llm, structure=dataStructureSample)"
   ],
   "id": "1322c08c161ca09d",
   "outputs": [
    {
     "name": "stderr",
     "output_type": "stream",
     "text": [
      "C:\\Users\\Sigal\\PycharmProjects\\DatawizzAI\\.venv\\Lib\\site-packages\\langchain_core\\_api\\deprecation.py:119: LangChainDeprecationWarning: The class `LLMChain` was deprecated in LangChain 0.1.17 and will be removed in 0.3.0. Use RunnableSequence, e.g., `prompt | llm` instead.\n",
      "  warn_deprecated(\n"
     ]
    }
   ],
   "execution_count": 5
  },
  {
   "metadata": {},
   "cell_type": "markdown",
   "source": "## Set Example Dataframe (Optional)\n",
   "id": "70a482d942725182"
  },
  {
   "metadata": {},
   "cell_type": "markdown",
   "source": "If you want the generated data to be influenced by examples from your original dataset, you can set an examples DataFrame within your DataAugmentor object.",
   "id": "8e93787bac5df37c"
  },
  {
   "metadata": {
    "ExecuteTime": {
     "end_time": "2024-05-29T19:40:27.052517Z",
     "start_time": "2024-05-29T19:40:27.049590Z"
    }
   },
   "cell_type": "code",
   "source": "DataAugmentorObj.set_examples_dataframe(df, file_name)",
   "id": "5cb1e18910927721",
   "outputs": [],
   "execution_count": 6
  },
  {
   "metadata": {},
   "cell_type": "markdown",
   "source": "## Generate and Preview Data",
   "id": "ae885c251cb980c"
  },
  {
   "metadata": {},
   "cell_type": "markdown",
   "source": "Finally, you can generate and preview the synthesized data based on the extracted structure and any example data provided.",
   "id": "bbfe312f6fcf78e2"
  },
  {
   "metadata": {
    "ExecuteTime": {
     "end_time": "2024-05-29T19:41:59.594829Z",
     "start_time": "2024-05-29T19:41:43.949518Z"
    }
   },
   "cell_type": "code",
   "source": [
    "generated_data = DataAugmentorObj.preview_output_sample()\n",
    "print(generated_data)"
   ],
   "id": "ffcdf796b79ccd84",
   "outputs": [
    {
     "name": "stdout",
     "output_type": "stream",
     "text": [
      "\n",
      "\n",
      "\u001B[1m> Entering new LLMChain chain...\u001B[0m\n",
      "Prompt after formatting:\n",
      "\u001B[32;1m\u001B[1;3mYou are a system that specializes in generating synthetic data according to user requests.Generate 10 Sample synthetic items(records in a table or the equivalent elements in unstructured text) for the data described below. In the following structure, but with different values.For the following task: Data description: None.Required Structure: {\"titanic.csv\": [{\"PassengerId\":200,\"Survived\":0,\"Pclass\":2,\"Name\":\"Yrois, Miss. Henriette (\\\\Mrs Harbeck\\\\\\\")\\\"\",\"Sex\":\"female\",\"Age\":24.0,\"SibSp\":0,\"Parch\":0,\"Ticket\":\"248747\",\"Fare\":13.0,\"Cabin\":null,\"Embarked\":\"S\"},{\"PassengerId\":50,\"Survived\":0,\"Pclass\":3,\"Name\":\"Arnold-Franchi, Mrs. Josef (Josefine Franchi)\",\"Sex\":\"female\",\"Age\":18.0,\"SibSp\":1,\"Parch\":0,\"Ticket\":\"349237\",\"Fare\":17.8,\"Cabin\":null,\"Embarked\":\"S\"},{\"PassengerId\":66,\"Survived\":1,\"Pclass\":3,\"Name\":\"Moubarek, Master. Gerios\",\"Sex\":\"male\",\"Age\":null,\"SibSp\":1,\"Parch\":1,\"Ticket\":\"2661\",\"Fare\":15.2458,\"Cabin\":null,\"Embarked\":\"C\"},{\"PassengerId\":768,\"Survived\":0,\"Pclass\":3,\"Name\":\"Mangan, Miss. Mary\",\"Sex\":\"female\",\"Age\":30.5,\"SibSp\":0,\"Parch\":0,\"Ticket\":\"364850\",\"Fare\":7.75,\"Cabin\":null,\"Embarked\":\"Q\"},{\"PassengerId\":578,\"Survived\":1,\"Pclass\":1,\"Name\":\"Silvey, Mrs. William Baird (Alice Munger)\",\"Sex\":\"female\",\"Age\":39.0,\"SibSp\":1,\"Parch\":0,\"Ticket\":\"13507\",\"Fare\":55.9,\"Cabin\":\"E44\",\"Embarked\":\"S\"},{\"PassengerId\":171,\"Survived\":0,\"Pclass\":1,\"Name\":\"Van der hoef, Mr. Wyckoff\",\"Sex\":\"male\",\"Age\":61.0,\"SibSp\":0,\"Parch\":0,\"Ticket\":\"111240\",\"Fare\":33.5,\"Cabin\":\"B19\",\"Embarked\":\"S\"},{\"PassengerId\":49,\"Survived\":0,\"Pclass\":3,\"Name\":\"Samaan, Mr. Youssef\",\"Sex\":\"male\",\"Age\":null,\"SibSp\":2,\"Parch\":0,\"Ticket\":\"2662\",\"Fare\":21.6792,\"Cabin\":null,\"Embarked\":\"C\"},{\"PassengerId\":621,\"Survived\":0,\"Pclass\":3,\"Name\":\"Yasbeck, Mr. Antoni\",\"Sex\":\"male\",\"Age\":27.0,\"SibSp\":1,\"Parch\":0,\"Ticket\":\"2659\",\"Fare\":14.4542,\"Cabin\":null,\"Embarked\":\"C\"},{\"PassengerId\":302,\"Survived\":1,\"Pclass\":3,\"Name\":\"McCoy, Mr. Bernard\",\"Sex\":\"male\",\"Age\":null,\"SibSp\":2,\"Parch\":0,\"Ticket\":\"367226\",\"Fare\":23.25,\"Cabin\":null,\"Embarked\":\"Q\"},{\"PassengerId\":110,\"Survived\":1,\"Pclass\":3,\"Name\":\"Moran, Miss. Bertha\",\"Sex\":\"female\",\"Age\":null,\"SibSp\":1,\"Parch\":0,\"Ticket\":\"371110\",\"Fare\":24.15,\"Cabin\":null,\"Embarked\":\"Q\"}]}.The previous generated batch (maintain sequential patterns if needed): unknown.Add Randomness: 0.8070237401618191.It is critical that you don't repeat the same values every time you get this prompt.\n",
      "Generated Output:\u001B[0m\n",
      "\n",
      "\u001B[1m> Finished chain.\u001B[0m\n",
      "{'titanic.csv':    PassengerId  Survived  Pclass  \\\n",
      "0          356         1       2   \n",
      "1          107         1       3   \n",
      "2          256         0       3   \n",
      "3           41         1       1   \n",
      "4          464         0       1   \n",
      "5          273         0       2   \n",
      "6          495         0       1   \n",
      "7          533         1       2   \n",
      "8          109         0       1   \n",
      "9          621         0       3   \n",
      "\n",
      "                                              Name     Sex   Age  SibSp  \\\n",
      "0                       Collander, Mr. Erik Gustaf    male  28.0      0   \n",
      "1                 Salkjelsvik, Miss. Anna Kristine  female  21.0      0   \n",
      "2                                Touma, Mr. Darwis    male  55.0      0   \n",
      "3              Ahlin, Mrs. Jens (Sylvia Olsdatter)  female  50.0      1   \n",
      "4                               Maisner, Mr. Simon    male  50.0      0   \n",
      "5                   Mellinger, Mrs. Juliet Beckman  female  41.0      0   \n",
      "6  Allison, Mrs. Hudson J C (Bessie Waldo Daniels)  female  25.0      1   \n",
      "7                                  Elias, Mr. Dibo    male  28.0      1   \n",
      "8                                  Rekic, Mr. Tido    male  38.0      0   \n",
      "9                              Yasbeck, Mr. Antoni    male  27.0      1   \n",
      "\n",
      "   Parch  Ticket      Fare    Cabin Embarked  \n",
      "0      0  248738   13.0000     None        S  \n",
      "1      0  343120    7.6500     None        S  \n",
      "2      0    2650    7.2250     None        C  \n",
      "3      0    7548   65.0000     None        S  \n",
      "4      0  113786   30.5000     C103        S  \n",
      "5      0  250644   19.5000     None        S  \n",
      "6      2  113781  151.5500  C22 C26        S  \n",
      "7      0    2690    9.6875     None        C  \n",
      "8      0  349249    7.8958     C118        S  \n",
      "9      0    2659   14.4542     None        C  }\n"
     ]
    }
   ],
   "execution_count": 7
  },
  {
   "metadata": {},
   "cell_type": "markdown",
   "source": "## Optional: query/filter the data structure to control the generated content",
   "id": "dc10bc5fbe27f631"
  },
  {
   "metadata": {
    "ExecuteTime": {
     "end_time": "2024-05-29T19:44:03.889331Z",
     "start_time": "2024-05-29T19:43:50.396587Z"
    }
   },
   "cell_type": "code",
   "source": [
    "# You can also add queries and filters to guide the generated contents:\n",
    "language = 'English'\n",
    "query = \"Only survives are included (Survived=1)\"\n",
    "\n",
    "generated_data = DataAugmentorObj.preview_output_sample(query=query, language=language)\n",
    "print(generated_data)"
   ],
   "id": "bfc32aaa26ec1c10",
   "outputs": [
    {
     "name": "stdout",
     "output_type": "stream",
     "text": [
      "\n",
      "\n",
      "\u001B[1m> Entering new LLMChain chain...\u001B[0m\n",
      "Prompt after formatting:\n",
      "\u001B[32;1m\u001B[1;3mYou are a system that specializes in generating synthetic data according to user requests.Generate 10 Sample synthetic items(records in a table or the equivalent elements in unstructured text) for the data described below. In the following structure, but with different values.For the following task: Data description: Only survives are included (Survived=1) ; All texts should be translated to English language..Required Structure: {\"titanic.csv\": [{\"PassengerId\":746,\"Survived\":0,\"Pclass\":1,\"Name\":\"Crosby, Capt. Edward Gifford\",\"Sex\":\"male\",\"Age\":70.0,\"SibSp\":1,\"Parch\":1,\"Ticket\":\"WE\\/P 5735\",\"Fare\":71.0,\"Cabin\":\"B22\",\"Embarked\":\"S\"},{\"PassengerId\":446,\"Survived\":1,\"Pclass\":1,\"Name\":\"Dodge, Master. Washington\",\"Sex\":\"male\",\"Age\":4.0,\"SibSp\":0,\"Parch\":2,\"Ticket\":\"33638\",\"Fare\":81.8583,\"Cabin\":\"A34\",\"Embarked\":\"S\"},{\"PassengerId\":574,\"Survived\":1,\"Pclass\":3,\"Name\":\"Kelly, Miss. Mary\",\"Sex\":\"female\",\"Age\":null,\"SibSp\":0,\"Parch\":0,\"Ticket\":\"14312\",\"Fare\":7.75,\"Cabin\":null,\"Embarked\":\"Q\"},{\"PassengerId\":351,\"Survived\":0,\"Pclass\":3,\"Name\":\"Odahl, Mr. Nils Martin\",\"Sex\":\"male\",\"Age\":23.0,\"SibSp\":0,\"Parch\":0,\"Ticket\":\"7267\",\"Fare\":9.225,\"Cabin\":null,\"Embarked\":\"S\"},{\"PassengerId\":295,\"Survived\":0,\"Pclass\":3,\"Name\":\"Mineff, Mr. Ivan\",\"Sex\":\"male\",\"Age\":24.0,\"SibSp\":0,\"Parch\":0,\"Ticket\":\"349233\",\"Fare\":7.8958,\"Cabin\":null,\"Embarked\":\"S\"},{\"PassengerId\":706,\"Survived\":0,\"Pclass\":2,\"Name\":\"Morley, Mr. Henry Samuel (\\\\Mr Henry Marshall\\\\\\\")\\\"\",\"Sex\":\"male\",\"Age\":39.0,\"SibSp\":0,\"Parch\":0,\"Ticket\":\"250655\",\"Fare\":26.0,\"Cabin\":null,\"Embarked\":\"S\"},{\"PassengerId\":57,\"Survived\":1,\"Pclass\":2,\"Name\":\"Rugg, Miss. Emily\",\"Sex\":\"female\",\"Age\":21.0,\"SibSp\":0,\"Parch\":0,\"Ticket\":\"C.A. 31026\",\"Fare\":10.5,\"Cabin\":null,\"Embarked\":\"S\"},{\"PassengerId\":201,\"Survived\":0,\"Pclass\":3,\"Name\":\"Vande Walle, Mr. Nestor Cyriel\",\"Sex\":\"male\",\"Age\":28.0,\"SibSp\":0,\"Parch\":0,\"Ticket\":\"345770\",\"Fare\":9.5,\"Cabin\":null,\"Embarked\":\"S\"},{\"PassengerId\":846,\"Survived\":0,\"Pclass\":3,\"Name\":\"Abbing, Mr. Anthony\",\"Sex\":\"male\",\"Age\":42.0,\"SibSp\":0,\"Parch\":0,\"Ticket\":\"C.A. 5547\",\"Fare\":7.55,\"Cabin\":null,\"Embarked\":\"S\"},{\"PassengerId\":642,\"Survived\":1,\"Pclass\":1,\"Name\":\"Sagesser, Mlle. Emma\",\"Sex\":\"female\",\"Age\":24.0,\"SibSp\":0,\"Parch\":0,\"Ticket\":\"PC 17477\",\"Fare\":69.3,\"Cabin\":\"B35\",\"Embarked\":\"C\"}]}.The previous generated batch (maintain sequential patterns if needed): {\"titanic.csv\": [{\"PassengerId\":912,\"Survived\":1,\"Pclass\":1,\"Name\":\"Ryerson, Miss. Emily Borie\",\"Sex\":\"female\",\"Age\":24.0,\"SibSp\":3,\"Parch\":2,\"Ticket\":\"PC 17608\",\"Fare\":262.375,\"Cabin\":\"B57 B59 B63 B66\",\"Embarked\":\"C\"},{\"PassengerId\":246,\"Survived\":0,\"Pclass\":1,\"Name\":\"Minahan, Dr. William Edward\",\"Sex\":\"male\",\"Age\":44.0,\"SibSp\":2,\"Parch\":0,\"Ticket\":\"19928\",\"Fare\":90.0,\"Cabin\":\"C78\",\"Embarked\":\"Q\"},{\"PassengerId\":481,\"Survived\":1,\"Pclass\":3,\"Name\":\"Goodwin, Master. Harold Victor\",\"Sex\":\"male\",\"Age\":9.0,\"SibSp\":5,\"Parch\":2,\"Ticket\":\"CA 2144\",\"Fare\":46.9,\"Cabin\":null,\"Embarked\":\"S\"},{\"PassengerId\":636,\"Survived\":0,\"Pclass\":3,\"Name\":\"Leinonen, Mr. Antti Gustaf\",\"Sex\":\"male\",\"Age\":32.0,\"SibSp\":0,\"Parch\":0,\"Ticket\":\"STON\\/O 2. 3101292\",\"Fare\":7.925,\"Cabin\":null,\"Embarked\":\"S\"},{\"PassengerId\":173,\"Survived\":0,\"Pclass\":3,\"Name\":\"Johnson, Miss. Eleanor Ileen\",\"Sex\":\"female\",\"Age\":1.0,\"SibSp\":1,\"Parch\":1,\"Ticket\":\"347742\",\"Fare\":11.1333,\"Cabin\":null,\"Embarked\":\"S\"},{\"PassengerId\":694,\"Survived\":1,\"Pclass\":3,\"Name\":\"Weir, Col. John\",\"Sex\":\"male\",\"Age\":60.0,\"SibSp\":0,\"Parch\":0,\"Ticket\":\"27268\",\"Fare\":13.0,\"Cabin\":\"D47\",\"Embarked\":\"S\"},{\"PassengerId\":66,\"Survived\":1,\"Pclass\":3,\"Name\":\"Moubarek, Master. Halim Gonios (\\\\\\\"William George\\\\\\\"\\\")\",\"Sex\":\"male\",\"Age\":4.0,\"SibSp\":1,\"Parch\":1,\"Ticket\":\"2661\",\"Fare\":15.2458,\"Cabin\":null,\"Embarked\":\"C\"},{\"PassengerId\":615,\"Survived\":1,\"Pclass\":2,\"Name\":\"Brocklebank, Mr. William Alfred\",\"Sex\":\"male\",\"Age\":35.0,\"SibSp\":0,\"Parch\":0,\"Ticket\":\"C.A. 34651\",\"Fare\":27.75,\"Cabin\":null,\"Embarked\":\"S\"},{\"PassengerId\":747,\"Survived\":0,\"Pclass\":3,\"Name\":\"Abbott, Mr. Rossmore Edward\",\"Sex\":\"male\",\"Age\":16.0,\"SibSp\":1,\"Parch\":1,\"Ticket\":\"C.A. 2673\",\"Fare\":20.25,\"Cabin\":null,\"Embarked\":\"S\"},{\"PassengerId\":766,\"Survived\":0,\"Pclass\":1,\"Name\":\"Hogeboom, Mrs. John C (Anna Andrews)\",\"Sex\":\"female\",\"Age\":51.0,\"SibSp\":1,\"Parch\":0,\"Ticket\":\"13502\",\"Fare\":77.9583,\"Cabin\":\"D11\",\"Embarked\":\"S\"}]}.Add Randomness: 0.9656385060647998.It is critical that you don't repeat the same values every time you get this prompt.\n",
      "Generated Output:\u001B[0m\n",
      "\n",
      "\u001B[1m> Finished chain.\u001B[0m\n",
      "{'titanic.csv':    PassengerId  Survived  Pclass  \\\n",
      "0          324         1       2   \n",
      "1          180         1       3   \n",
      "2          858         1       1   \n",
      "3          397         1       3   \n",
      "4          904         1       1   \n",
      "5          654         1       3   \n",
      "6          598         1       2   \n",
      "7          871         1       3   \n",
      "8          269         1       1   \n",
      "9          143         1       3   \n",
      "\n",
      "                                                Name     Sex   Age  SibSp  \\\n",
      "0                     Cunningham, Mr. Alfred Fleming    male  29.0      0   \n",
      "1                             Leonard, Miss. Bridget  female   NaN      0   \n",
      "2                             Daly, Mr. Peter Denis     male  51.0      0   \n",
      "3                                Olsson, Miss. Elina  female  31.0      0   \n",
      "4                         Jones, Mr. Charles Cresson    male  46.0      0   \n",
      "5                      O'Leary, Miss. Hanora \"Norah\"  female   NaN      0   \n",
      "6                    Johnson, Mr. William Cahoone Jr    male  19.0      0   \n",
      "7                      Rush, Mr. Alfred George John     male  16.0      0   \n",
      "8                          Graham, Mr. George Edward    male  38.0      0   \n",
      "9  Hakkarainen, Mrs. Pekka Pietari (Elin Matilda ...  female  24.0      1   \n",
      "\n",
      "   Parch            Ticket      Fare Cabin Embarked  \n",
      "0      0            239853    0.0000  None        S  \n",
      "1      0              LINE    0.0000  None        S  \n",
      "2      0            113055   26.5500   E17        S  \n",
      "3      0            350407    7.8542  None        S  \n",
      "4      0               694   26.0000  None        S  \n",
      "5      0            330919    7.8292  None        Q  \n",
      "6      0              LINE    0.0000  None        S  \n",
      "7      0          A/4. 512    8.0500  None        S  \n",
      "8      1          PC 17582  153.4625  C125        S  \n",
      "9      0  STON/O2. 3101279   15.8500  None        S  }\n"
     ]
    }
   ],
   "execution_count": 9
  },
  {
   "metadata": {},
   "cell_type": "markdown",
   "source": "## Generating Full Output",
   "id": "3ff2b749565f8532"
  },
  {
   "metadata": {},
   "cell_type": "markdown",
   "source": "To generate the full dataset, use the generate_data method. Specify your query (if any), optionaly the region and language, and the number of records you wish to generate. ",
   "id": "e0eebddadb277749"
  },
  {
   "metadata": {
    "ExecuteTime": {
     "end_time": "2024-05-29T19:45:08.784972Z",
     "start_time": "2024-05-29T19:44:41.189052Z"
    }
   },
   "cell_type": "code",
   "source": [
    "# Without expert specifications\n",
    "generated_data = DataAugmentorObj.generate_data( query=\"\", language=language, num_records=15) \n",
    "\n",
    "generated_data"
   ],
   "id": "6d82ffb601c963ea",
   "outputs": [
    {
     "name": "stdout",
     "output_type": "stream",
     "text": [
      "\n",
      "\n",
      "\u001B[1m> Entering new LLMChain chain...\u001B[0m\n",
      "Prompt after formatting:\n",
      "\u001B[32;1m\u001B[1;3mYou are a system that specializes in generating synthetic data according to user requests.Generate 10 Sample synthetic items(records in a table or the equivalent elements in unstructured text) for the data described below. In the following structure, but with different values.For the following task: Data description:  ; All texts should be translated to English language..Required Structure: {\"titanic.csv\": [{\"PassengerId\":858,\"Survived\":1,\"Pclass\":1,\"Name\":\"Daly, Mr. Peter Denis \",\"Sex\":\"male\",\"Age\":51.0,\"SibSp\":0,\"Parch\":0,\"Ticket\":\"113055\",\"Fare\":26.55,\"Cabin\":\"E17\",\"Embarked\":\"S\"},{\"PassengerId\":172,\"Survived\":0,\"Pclass\":3,\"Name\":\"Rice, Master. Arthur\",\"Sex\":\"male\",\"Age\":4.0,\"SibSp\":4,\"Parch\":1,\"Ticket\":\"382652\",\"Fare\":29.125,\"Cabin\":null,\"Embarked\":\"Q\"},{\"PassengerId\":430,\"Survived\":1,\"Pclass\":3,\"Name\":\"Pickard, Mr. Berk (Berk Trembisky)\",\"Sex\":\"male\",\"Age\":32.0,\"SibSp\":0,\"Parch\":0,\"Ticket\":\"SOTON\\/O.Q. 392078\",\"Fare\":8.05,\"Cabin\":\"E10\",\"Embarked\":\"S\"},{\"PassengerId\":537,\"Survived\":0,\"Pclass\":1,\"Name\":\"Butt, Major. Archibald Willingham\",\"Sex\":\"male\",\"Age\":45.0,\"SibSp\":0,\"Parch\":0,\"Ticket\":\"113050\",\"Fare\":26.55,\"Cabin\":\"B38\",\"Embarked\":\"S\"},{\"PassengerId\":268,\"Survived\":1,\"Pclass\":3,\"Name\":\"Persson, Mr. Ernst Ulrik\",\"Sex\":\"male\",\"Age\":25.0,\"SibSp\":1,\"Parch\":0,\"Ticket\":\"347083\",\"Fare\":7.775,\"Cabin\":null,\"Embarked\":\"S\"},{\"PassengerId\":98,\"Survived\":1,\"Pclass\":1,\"Name\":\"Greenfield, Mr. William Bertram\",\"Sex\":\"male\",\"Age\":23.0,\"SibSp\":0,\"Parch\":1,\"Ticket\":\"PC 17759\",\"Fare\":63.3583,\"Cabin\":\"D10 D12\",\"Embarked\":\"C\"},{\"PassengerId\":118,\"Survived\":0,\"Pclass\":2,\"Name\":\"Turpin, Mr. William John Robert\",\"Sex\":\"male\",\"Age\":29.0,\"SibSp\":1,\"Parch\":0,\"Ticket\":\"11668\",\"Fare\":21.0,\"Cabin\":null,\"Embarked\":\"S\"},{\"PassengerId\":582,\"Survived\":1,\"Pclass\":1,\"Name\":\"Thayer, Mrs. John Borland (Marian Longstreth Morris)\",\"Sex\":\"female\",\"Age\":39.0,\"SibSp\":1,\"Parch\":1,\"Ticket\":\"17421\",\"Fare\":110.8833,\"Cabin\":\"C68\",\"Embarked\":\"C\"},{\"PassengerId\":3,\"Survived\":1,\"Pclass\":3,\"Name\":\"Heikkinen, Miss. Laina\",\"Sex\":\"female\",\"Age\":26.0,\"SibSp\":0,\"Parch\":0,\"Ticket\":\"STON\\/O2. 3101282\",\"Fare\":7.925,\"Cabin\":null,\"Embarked\":\"S\"},{\"PassengerId\":195,\"Survived\":1,\"Pclass\":1,\"Name\":\"Brown, Mrs. James Joseph (Margaret Tobin)\",\"Sex\":\"female\",\"Age\":44.0,\"SibSp\":0,\"Parch\":0,\"Ticket\":\"PC 17610\",\"Fare\":27.7208,\"Cabin\":\"B4\",\"Embarked\":\"C\"}]}.The previous generated batch (maintain sequential patterns if needed): {\"titanic.csv\": [{\"PassengerId\":324,\"Survived\":1,\"Pclass\":2,\"Name\":\"Cunningham, Mr. Alfred Fleming\",\"Sex\":\"male\",\"Age\":29.0,\"SibSp\":0,\"Parch\":0,\"Ticket\":\"239853\",\"Fare\":0.0,\"Cabin\":null,\"Embarked\":\"S\"},{\"PassengerId\":180,\"Survived\":1,\"Pclass\":3,\"Name\":\"Leonard, Miss. Bridget\",\"Sex\":\"female\",\"Age\":null,\"SibSp\":0,\"Parch\":0,\"Ticket\":\"LINE\",\"Fare\":0.0,\"Cabin\":null,\"Embarked\":\"S\"},{\"PassengerId\":858,\"Survived\":1,\"Pclass\":1,\"Name\":\"Daly, Mr. Peter Denis \",\"Sex\":\"male\",\"Age\":51.0,\"SibSp\":0,\"Parch\":0,\"Ticket\":\"113055\",\"Fare\":26.55,\"Cabin\":\"E17\",\"Embarked\":\"S\"},{\"PassengerId\":397,\"Survived\":1,\"Pclass\":3,\"Name\":\"Olsson, Miss. Elina\",\"Sex\":\"female\",\"Age\":31.0,\"SibSp\":0,\"Parch\":0,\"Ticket\":\"350407\",\"Fare\":7.8542,\"Cabin\":null,\"Embarked\":\"S\"},{\"PassengerId\":904,\"Survived\":1,\"Pclass\":1,\"Name\":\"Jones, Mr. Charles Cresson\",\"Sex\":\"male\",\"Age\":46.0,\"SibSp\":0,\"Parch\":0,\"Ticket\":\"694\",\"Fare\":26.0,\"Cabin\":null,\"Embarked\":\"S\"},{\"PassengerId\":654,\"Survived\":1,\"Pclass\":3,\"Name\":\"O'Leary, Miss. Hanora \\\"Norah\\\"\",\"Sex\":\"female\",\"Age\":null,\"SibSp\":0,\"Parch\":0,\"Ticket\":\"330919\",\"Fare\":7.8292,\"Cabin\":null,\"Embarked\":\"Q\"},{\"PassengerId\":598,\"Survived\":1,\"Pclass\":2,\"Name\":\"Johnson, Mr. William Cahoone Jr\",\"Sex\":\"male\",\"Age\":19.0,\"SibSp\":0,\"Parch\":0,\"Ticket\":\"LINE\",\"Fare\":0.0,\"Cabin\":null,\"Embarked\":\"S\"},{\"PassengerId\":871,\"Survived\":1,\"Pclass\":3,\"Name\":\"Rush, Mr. Alfred George John \",\"Sex\":\"male\",\"Age\":16.0,\"SibSp\":0,\"Parch\":0,\"Ticket\":\"A\\/4. 512\",\"Fare\":8.05,\"Cabin\":null,\"Embarked\":\"S\"},{\"PassengerId\":269,\"Survived\":1,\"Pclass\":1,\"Name\":\"Graham, Mr. George Edward\",\"Sex\":\"male\",\"Age\":38.0,\"SibSp\":0,\"Parch\":1,\"Ticket\":\"PC 17582\",\"Fare\":153.4625,\"Cabin\":\"C125\",\"Embarked\":\"S\"},{\"PassengerId\":143,\"Survived\":1,\"Pclass\":3,\"Name\":\"Hakkarainen, Mrs. Pekka Pietari (Elin Matilda Dolck)\",\"Sex\":\"female\",\"Age\":24.0,\"SibSp\":1,\"Parch\":0,\"Ticket\":\"STON\\/O2. 3101279\",\"Fare\":15.85,\"Cabin\":null,\"Embarked\":\"S\"}]}.Add Randomness: 0.910729649877517.It is critical that you don't repeat the same values every time you get this prompt.\n",
      "Generated Output:\u001B[0m\n",
      "\n",
      "\u001B[1m> Finished chain.\u001B[0m\n",
      "\n",
      "\n",
      "\u001B[1m> Entering new LLMChain chain...\u001B[0m\n",
      "Prompt after formatting:\n",
      "\u001B[32;1m\u001B[1;3mYou are a system that specializes in generating synthetic data according to user requests.Generate 10 Sample synthetic items(records in a table or the equivalent elements in unstructured text) for the data described below. In the following structure, but with different values.For the following task: Data description:  ; All texts should be translated to English language..Required Structure: {\"titanic.csv\": [{\"PassengerId\":771,\"Survived\":0,\"Pclass\":3,\"Name\":\"Lievens, Mr. Rene Aime\",\"Sex\":\"male\",\"Age\":24.0,\"SibSp\":0,\"Parch\":0,\"Ticket\":\"345781\",\"Fare\":9.5,\"Cabin\":null,\"Embarked\":\"S\"},{\"PassengerId\":311,\"Survived\":1,\"Pclass\":1,\"Name\":\"Hays, Miss. Margaret Bechstein\",\"Sex\":\"female\",\"Age\":24.0,\"SibSp\":0,\"Parch\":0,\"Ticket\":\"11767\",\"Fare\":83.1583,\"Cabin\":\"C54\",\"Embarked\":\"C\"},{\"PassengerId\":161,\"Survived\":0,\"Pclass\":3,\"Name\":\"Cribb, Mr. John Hatfield\",\"Sex\":\"male\",\"Age\":44.0,\"SibSp\":0,\"Parch\":1,\"Ticket\":\"371362\",\"Fare\":16.1,\"Cabin\":null,\"Embarked\":\"S\"},{\"PassengerId\":478,\"Survived\":0,\"Pclass\":3,\"Name\":\"Braund, Mr. Lewis Richard\",\"Sex\":\"male\",\"Age\":29.0,\"SibSp\":1,\"Parch\":0,\"Ticket\":\"3460\",\"Fare\":7.0458,\"Cabin\":null,\"Embarked\":\"S\"},{\"PassengerId\":716,\"Survived\":0,\"Pclass\":3,\"Name\":\"Soholt, Mr. Peter Andreas Lauritz Andersen\",\"Sex\":\"male\",\"Age\":19.0,\"SibSp\":0,\"Parch\":0,\"Ticket\":\"348124\",\"Fare\":7.65,\"Cabin\":\"F G73\",\"Embarked\":\"S\"},{\"PassengerId\":874,\"Survived\":0,\"Pclass\":3,\"Name\":\"Vander Cruyssen, Mr. Victor\",\"Sex\":\"male\",\"Age\":47.0,\"SibSp\":0,\"Parch\":0,\"Ticket\":\"345765\",\"Fare\":9.0,\"Cabin\":null,\"Embarked\":\"S\"},{\"PassengerId\":636,\"Survived\":1,\"Pclass\":2,\"Name\":\"Davis, Miss. Mary\",\"Sex\":\"female\",\"Age\":28.0,\"SibSp\":0,\"Parch\":0,\"Ticket\":\"237668\",\"Fare\":13.0,\"Cabin\":null,\"Embarked\":\"S\"},{\"PassengerId\":658,\"Survived\":0,\"Pclass\":3,\"Name\":\"Bourke, Mrs. John (Catherine)\",\"Sex\":\"female\",\"Age\":32.0,\"SibSp\":1,\"Parch\":1,\"Ticket\":\"364849\",\"Fare\":15.5,\"Cabin\":null,\"Embarked\":\"Q\"},{\"PassengerId\":579,\"Survived\":0,\"Pclass\":3,\"Name\":\"Caram, Mrs. Joseph (Maria Elias)\",\"Sex\":\"female\",\"Age\":null,\"SibSp\":1,\"Parch\":0,\"Ticket\":\"2689\",\"Fare\":14.4583,\"Cabin\":null,\"Embarked\":\"C\"},{\"PassengerId\":49,\"Survived\":0,\"Pclass\":3,\"Name\":\"Samaan, Mr. Youssef\",\"Sex\":\"male\",\"Age\":null,\"SibSp\":2,\"Parch\":0,\"Ticket\":\"2662\",\"Fare\":21.6792,\"Cabin\":null,\"Embarked\":\"C\"}]}.The previous generated batch (maintain sequential patterns if needed): {\"titanic.csv\": [{\"PassengerId\":429,\"Survived\":0,\"Pclass\":3,\"Name\":\"Flynn, Mr. James\",\"Sex\":\"male\",\"Age\":32.0,\"SibSp\":0,\"Parch\":0,\"Ticket\":\"364851\",\"Fare\":7.75,\"Cabin\":null,\"Embarked\":\"Q\"},{\"PassengerId\":623,\"Survived\":0,\"Pclass\":3,\"Name\":\"Nakid, Mr. Sahid\",\"Sex\":\"male\",\"Age\":20.0,\"SibSp\":1,\"Parch\":1,\"Ticket\":\"2653\",\"Fare\":15.7417,\"Cabin\":null,\"Embarked\":\"C\"},{\"PassengerId\":767,\"Survived\":0,\"Pclass\":1,\"Name\":\"Brewe, Dr. Arthur Jackson\",\"Sex\":\"male\",\"Age\":57.0,\"SibSp\":0,\"Parch\":0,\"Ticket\":\"112379\",\"Fare\":39.6,\"Cabin\":null,\"Embarked\":\"C\"},{\"PassengerId\":112,\"Survived\":1,\"Pclass\":1,\"Name\":\"Zabour, Miss. Hileni\",\"Sex\":\"female\",\"Age\":14.5,\"SibSp\":1,\"Parch\":0,\"Ticket\":\"2665\",\"Fare\":14.4542,\"Cabin\":null,\"Embarked\":\"C\"},{\"PassengerId\":531,\"Survived\":1,\"Pclass\":2,\"Name\":\"Quick, Miss. Phyllis May\",\"Sex\":\"female\",\"Age\":2.0,\"SibSp\":1,\"Parch\":1,\"Ticket\":\"26360\",\"Fare\":26.0,\"Cabin\":null,\"Embarked\":\"S\"},{\"PassengerId\":299,\"Survived\":1,\"Pclass\":1,\"Name\":\"Saalfeld, Mr. Adolphe\",\"Sex\":\"male\",\"Age\":null,\"SibSp\":0,\"Parch\":0,\"Ticket\":\"19988\",\"Fare\":30.5,\"Cabin\":\"C106\",\"Embarked\":\"S\"},{\"PassengerId\":381,\"Survived\":1,\"Pclass\":1,\"Name\":\"Bidois, Miss. Rosalie\",\"Sex\":\"female\",\"Age\":42.0,\"SibSp\":0,\"Parch\":0,\"Ticket\":\"PC 17757\",\"Fare\":227.525,\"Cabin\":null,\"Embarked\":\"C\"},{\"PassengerId\":533,\"Survived\":0,\"Pclass\":3,\"Name\":\"Elias, Mr. Joseph\",\"Sex\":\"male\",\"Age\":39.0,\"SibSp\":0,\"Parch\":2,\"Ticket\":\"2675\",\"Fare\":7.2292,\"Cabin\":null,\"Embarked\":\"C\"},{\"PassengerId\":34,\"Survived\":0,\"Pclass\":2,\"Name\":\"Wheadon, Mr. Edward H\",\"Sex\":\"male\",\"Age\":66.0,\"SibSp\":0,\"Parch\":0,\"Ticket\":\"C.A. 24579\",\"Fare\":10.5,\"Cabin\":null,\"Embarked\":\"S\"},{\"PassengerId\":82,\"Survived\":1,\"Pclass\":3,\"Name\":\"Sheerlinck, Mr. Jan Baptist\",\"Sex\":\"male\",\"Age\":29.0,\"SibSp\":0,\"Parch\":0,\"Ticket\":\"345779\",\"Fare\":9.5,\"Cabin\":null,\"Embarked\":\"S\"}]}.Add Randomness: 0.5665836041295189.It is critical that you don't repeat the same values every time you get this prompt.\n",
      "Generated Output:\u001B[0m\n",
      "\n",
      "\u001B[1m> Finished chain.\u001B[0m\n"
     ]
    },
    {
     "data": {
      "text/plain": [
       "{'titanic.csv':     PassengerId  Survived  Pclass                                      Name  \\\n",
       " 0           429         0       3                          Flynn, Mr. James   \n",
       " 1           623         0       3                          Nakid, Mr. Sahid   \n",
       " 2           767         0       1                 Brewe, Dr. Arthur Jackson   \n",
       " 3           112         1       1                      Zabour, Miss. Hileni   \n",
       " 4           531         1       2                  Quick, Miss. Phyllis May   \n",
       " 5           299         1       1                     Saalfeld, Mr. Adolphe   \n",
       " 6           381         1       1                     Bidois, Miss. Rosalie   \n",
       " 7           533         0       3                         Elias, Mr. Joseph   \n",
       " 8            34         0       2                     Wheadon, Mr. Edward H   \n",
       " 9            82         1       3               Sheerlinck, Mr. Jan Baptist   \n",
       " 10          542         0       3                  Svensson, Mr. Karl Johan   \n",
       " 11          413         0       3                 Funk, Miss. Annie Clemmer   \n",
       " 12          636         1       2  Harper, Mrs. Henry Sleeper (Myna Haxtun)   \n",
       " 13          160         0       3         Sage, Miss. Dorothy Edith \"Dolly\"   \n",
       " 14          688         0       3                         Dakic, Mr. Branko   \n",
       " 15          341         1       2            Navratil, Master. Edmond Roger   \n",
       " 16           83         0       3                    McDermott, Mr. Patrick   \n",
       " 17           46         1       3                  Rogers, Mr. William John   \n",
       " 18          668         1       3                Rommetvedt, Mr. Knud Paust   \n",
       " 19          634         0       1             Parr, Mr. William Henry Marsh   \n",
       " \n",
       "        Sex   Age  SibSp  Parch           Ticket      Fare Cabin Embarked  \n",
       " 0     male  32.0      0      0           364851    7.7500  None        Q  \n",
       " 1     male  20.0      1      1             2653   15.7417  None        C  \n",
       " 2     male  57.0      0      0           112379   39.6000  None        C  \n",
       " 3   female  14.5      1      0             2665   14.4542  None        C  \n",
       " 4   female   2.0      1      1            26360   26.0000  None        S  \n",
       " 5     male   NaN      0      0            19988   30.5000  C106        S  \n",
       " 6   female  42.0      0      0         PC 17757  227.5250  None        C  \n",
       " 7     male  39.0      0      2             2675    7.2292  None        C  \n",
       " 8     male  66.0      0      0       C.A. 24579   10.5000  None        S  \n",
       " 9     male  29.0      0      0           345779    9.5000  None        S  \n",
       " 10    male  38.0      1      0           347081    7.7500  None        S  \n",
       " 11  female  38.0      0      0           330935    8.1375  None        Q  \n",
       " 12  female  49.0      1      0           248727   33.0000  None        S  \n",
       " 13  female   NaN      8      2         CA. 2343   69.5500  None        S  \n",
       " 14    male  19.0      0      0           349228   10.1708  None        S  \n",
       " 15    male   2.0      1      1           230080   26.0000    F2        S  \n",
       " 16    male   NaN      0      0           330932    7.7875  None        Q  \n",
       " 17    male   NaN      0      0  S.C./A.4. 23567    8.0500  None        S  \n",
       " 18    male   NaN      0      0           312993    7.7750  None        S  \n",
       " 19    male   NaN      0      0           112052    0.0000  None        S  }"
      ]
     },
     "execution_count": 10,
     "metadata": {},
     "output_type": "execute_result"
    }
   ],
   "execution_count": 10
  },
  {
   "metadata": {},
   "cell_type": "markdown",
   "source": "## Generating Full Output in Parallel",
   "id": "4844edad28915328"
  },
  {
   "metadata": {},
   "cell_type": "markdown",
   "source": "For more efficient data generation, especially when dealing with large datasets or multiple requests, our package supports parallel processing. This section covers how to utilize the generate_data_in_parallel method of the DataAugmentor class to generate your dataset asynchronously.\n",
   "id": "a52427ca4f99f2db"
  },
  {
   "metadata": {},
   "cell_type": "markdown",
   "source": "### Setup for Parallel Execution",
   "id": "a548af052bdd1a91"
  },
  {
   "metadata": {},
   "cell_type": "markdown",
   "source": "To ensure smooth parallel execution, especially within environments that don't natively support asynchronous operations (like Jupyter notebooks), we use nest_asyncio. This module allows asyncio to run inside environments with their own event loops.",
   "id": "5e522f5107ce7df5"
  },
  {
   "metadata": {
    "ExecuteTime": {
     "end_time": "2024-05-29T19:45:25.602045Z",
     "start_time": "2024-05-29T19:45:25.595440Z"
    }
   },
   "cell_type": "code",
   "source": [
    "import nest_asyncio\n",
    "nest_asyncio.apply()"
   ],
   "id": "cc79aef028d5eab3",
   "outputs": [],
   "execution_count": 11
  },
  {
   "metadata": {},
   "cell_type": "markdown",
   "source": "### Generate Full Output in Parallel",
   "id": "8ab1b238a35378b9"
  },
  {
   "metadata": {},
   "cell_type": "markdown",
   "source": "To generate data in parallel, use the generate_data_in_parallel coroutine. This method allows you to specify the query (if any), the number of records, region, and language, similarly to generate_data, but executes multiple data generation tasks concurrently.",
   "id": "45377627262bb288"
  },
  {
   "metadata": {
    "ExecuteTime": {
     "end_time": "2024-05-29T19:47:01.860994Z",
     "start_time": "2024-05-29T19:46:41.617141Z"
    }
   },
   "cell_type": "code",
   "source": [
    "import asyncio\n",
    "# Without expert specifications\n",
    "generated_data = asyncio.run(DataAugmentorObj.generate_data_in_parallel(query = query, records=20, language=language))\n",
    "\n",
    "generated_data"
   ],
   "id": "cf5b1224290f6357",
   "outputs": [
    {
     "name": "stdout",
     "output_type": "stream",
     "text": [
      "\n",
      "\n",
      "\u001B[1m> Entering new LLMChain chain...\u001B[0m\n",
      "\n",
      "\n",
      "\u001B[1m> Entering new LLMChain chain...\u001B[0m\n",
      "Prompt after formatting:\n",
      "\u001B[32;1m\u001B[1;3mYou are a system that specializes in generating synthetic data according to user requests.Generate 10 Sample synthetic items(records in a table or the equivalent elements in unstructured text) for the data described below. In the following structure, but with different values.For the following task: Data description: Only survives are included (Survived=1) ; All texts should be translated to English language..Required Structure: {\"titanic.csv\": [{\"PassengerId\":44,\"Survived\":1,\"Pclass\":2,\"Name\":\"Laroche, Miss. Simonne Marie Anne Andree\",\"Sex\":\"female\",\"Age\":3.0,\"SibSp\":1,\"Parch\":2,\"Ticket\":\"SC\\/Paris 2123\",\"Fare\":41.5792,\"Cabin\":null,\"Embarked\":\"C\"},{\"PassengerId\":608,\"Survived\":1,\"Pclass\":1,\"Name\":\"Daniel, Mr. Robert Williams\",\"Sex\":\"male\",\"Age\":27.0,\"SibSp\":0,\"Parch\":0,\"Ticket\":\"113804\",\"Fare\":30.5,\"Cabin\":null,\"Embarked\":\"S\"},{\"PassengerId\":534,\"Survived\":1,\"Pclass\":3,\"Name\":\"Peter, Mrs. Catherine (Catherine Rizk)\",\"Sex\":\"female\",\"Age\":null,\"SibSp\":0,\"Parch\":2,\"Ticket\":\"2668\",\"Fare\":22.3583,\"Cabin\":null,\"Embarked\":\"C\"},{\"PassengerId\":304,\"Survived\":1,\"Pclass\":2,\"Name\":\"Keane, Miss. Nora A\",\"Sex\":\"female\",\"Age\":null,\"SibSp\":0,\"Parch\":0,\"Ticket\":\"226593\",\"Fare\":12.35,\"Cabin\":\"E101\",\"Embarked\":\"Q\"},{\"PassengerId\":766,\"Survived\":1,\"Pclass\":1,\"Name\":\"Hogeboom, Mrs. John C (Anna Andrews)\",\"Sex\":\"female\",\"Age\":51.0,\"SibSp\":1,\"Parch\":0,\"Ticket\":\"13502\",\"Fare\":77.9583,\"Cabin\":\"D11\",\"Embarked\":\"S\"},{\"PassengerId\":781,\"Survived\":1,\"Pclass\":3,\"Name\":\"Ayoub, Miss. Banoura\",\"Sex\":\"female\",\"Age\":13.0,\"SibSp\":0,\"Parch\":0,\"Ticket\":\"2687\",\"Fare\":7.2292,\"Cabin\":null,\"Embarked\":\"C\"},{\"PassengerId\":727,\"Survived\":1,\"Pclass\":2,\"Name\":\"Renouf, Mrs. Peter Henry (Lillian Jefferys)\",\"Sex\":\"female\",\"Age\":30.0,\"SibSp\":3,\"Parch\":0,\"Ticket\":\"31027\",\"Fare\":21.0,\"Cabin\":null,\"Embarked\":\"S\"},{\"PassengerId\":546,\"Survived\":0,\"Pclass\":1,\"Name\":\"Nicholson, Mr. Arthur Ernest\",\"Sex\":\"male\",\"Age\":64.0,\"SibSp\":0,\"Parch\":0,\"Ticket\":\"693\",\"Fare\":26.0,\"Cabin\":null,\"Embarked\":\"S\"},{\"PassengerId\":173,\"Survived\":1,\"Pclass\":3,\"Name\":\"Johnson, Miss. Eleanor Ileen\",\"Sex\":\"female\",\"Age\":1.0,\"SibSp\":1,\"Parch\":1,\"Ticket\":\"347742\",\"Fare\":11.1333,\"Cabin\":null,\"Embarked\":\"S\"},{\"PassengerId\":854,\"Survived\":1,\"Pclass\":1,\"Name\":\"Lines, Miss. Mary Conover\",\"Sex\":\"female\",\"Age\":16.0,\"SibSp\":0,\"Parch\":1,\"Ticket\":\"PC 17592\",\"Fare\":39.4,\"Cabin\":\"D28\",\"Embarked\":\"S\"}]}.The previous generated batch (maintain sequential patterns if needed): unknown.Add Randomness: 0.34449612487919445.It is critical that you don't repeat the same values every time you get this prompt.\n",
      "Generated Output:\u001B[0m\n",
      "Prompt after formatting:\n",
      "\u001B[32;1m\u001B[1;3mYou are a system that specializes in generating synthetic data according to user requests.Generate 10 Sample synthetic items(records in a table or the equivalent elements in unstructured text) for the data described below. In the following structure, but with different values.For the following task: Data description: Only survives are included (Survived=1) ; All texts should be translated to English language..Required Structure: {\"titanic.csv\": [{\"PassengerId\":463,\"Survived\":0,\"Pclass\":1,\"Name\":\"Gee, Mr. Arthur H\",\"Sex\":\"male\",\"Age\":47.0,\"SibSp\":0,\"Parch\":0,\"Ticket\":\"111320\",\"Fare\":38.5,\"Cabin\":\"E63\",\"Embarked\":\"S\"},{\"PassengerId\":547,\"Survived\":1,\"Pclass\":2,\"Name\":\"Beane, Mrs. Edward (Ethel Clarke)\",\"Sex\":\"female\",\"Age\":19.0,\"SibSp\":1,\"Parch\":0,\"Ticket\":\"2908\",\"Fare\":26.0,\"Cabin\":null,\"Embarked\":\"S\"},{\"PassengerId\":605,\"Survived\":1,\"Pclass\":1,\"Name\":\"Homer, Mr. Harry (\\\\Mr E Haven\\\\\\\")\\\"\",\"Sex\":\"male\",\"Age\":35.0,\"SibSp\":0,\"Parch\":0,\"Ticket\":\"111426\",\"Fare\":26.55,\"Cabin\":null,\"Embarked\":\"C\"},{\"PassengerId\":134,\"Survived\":1,\"Pclass\":2,\"Name\":\"Weisz, Mrs. Leopold (Mathilde Francoise Pede)\",\"Sex\":\"female\",\"Age\":29.0,\"SibSp\":1,\"Parch\":0,\"Ticket\":\"228414\",\"Fare\":26.0,\"Cabin\":null,\"Embarked\":\"S\"},{\"PassengerId\":350,\"Survived\":0,\"Pclass\":3,\"Name\":\"Dimic, Mr. Jovan\",\"Sex\":\"male\",\"Age\":42.0,\"SibSp\":0,\"Parch\":0,\"Ticket\":\"315088\",\"Fare\":8.6625,\"Cabin\":null,\"Embarked\":\"S\"},{\"PassengerId\":143,\"Survived\":1,\"Pclass\":3,\"Name\":\"Hakkarainen, Mrs. Pekka Pietari (Elin Matilda Dolck)\",\"Sex\":\"female\",\"Age\":24.0,\"SibSp\":1,\"Parch\":0,\"Ticket\":\"STON\\/O2. 3101279\",\"Fare\":15.85,\"Cabin\":null,\"Embarked\":\"S\"},{\"PassengerId\":821,\"Survived\":1,\"Pclass\":1,\"Name\":\"Hays, Mrs. Charles Melville (Clara Jennings Gregg)\",\"Sex\":\"female\",\"Age\":52.0,\"SibSp\":1,\"Parch\":1,\"Ticket\":\"12749\",\"Fare\":93.5,\"Cabin\":\"B69\",\"Embarked\":\"S\"},{\"PassengerId\":569,\"Survived\":0,\"Pclass\":3,\"Name\":\"Doharr, Mr. Tannous\",\"Sex\":\"male\",\"Age\":null,\"SibSp\":0,\"Parch\":0,\"Ticket\":\"2686\",\"Fare\":7.2292,\"Cabin\":null,\"Embarked\":\"C\"},{\"PassengerId\":486,\"Survived\":0,\"Pclass\":3,\"Name\":\"Lefebre, Miss. Jeannie\",\"Sex\":\"female\",\"Age\":null,\"SibSp\":3,\"Parch\":1,\"Ticket\":\"4133\",\"Fare\":25.4667,\"Cabin\":null,\"Embarked\":\"S\"},{\"PassengerId\":831,\"Survived\":1,\"Pclass\":3,\"Name\":\"Yasbeck, Mrs. Antoni (Selini Alexander)\",\"Sex\":\"female\",\"Age\":15.0,\"SibSp\":1,\"Parch\":0,\"Ticket\":\"2659\",\"Fare\":14.4542,\"Cabin\":null,\"Embarked\":\"C\"}]}.The previous generated batch (maintain sequential patterns if needed): unknown.Add Randomness: 0.8899427300916519.It is critical that you don't repeat the same values every time you get this prompt.\n",
      "Generated Output:\u001B[0m\n",
      "\n",
      "\u001B[1m> Finished chain.\u001B[0m\n",
      "\n",
      "\u001B[1m> Finished chain.\u001B[0m\n"
     ]
    },
    {
     "data": {
      "text/plain": [
       "{'titanic.csv':     PassengerId  Survived  Pclass                                     Name  \\\n",
       " 0           891         1       3            Banfield, Mr. Frederick James   \n",
       " 1           892         1       3                Lindell, Mrs. Edith Maria   \n",
       " 2           893         1       1                       Wilkes, Mrs. Ellen   \n",
       " 3           894         1       2                Myles, Mr. Thomas Francis   \n",
       " 4           895         1       3                       Colbert, Mr. Jas L   \n",
       " 5           896         1       3                      Svensson, Mr. Johan   \n",
       " 6           897         1       3                     Rice, Master. Albert   \n",
       " 7           898         1       3                       Johnson, Mrs. Emma   \n",
       " 8           899         1       2                Carter, Miss. Lucile Polk   \n",
       " 9           900         1       1            Beckwith, Mr. Richard Leonard   \n",
       " 10          762         1       2             Walker, Mr. William Anderson   \n",
       " 11          632         1       3  Myhrman, Mr. Pehr Fabian Oliver Malkolm   \n",
       " 12          584         1       3                       Paulner, Mr. Simon   \n",
       " 13          742         0       1            Cavendish, Mr. Tyrell William   \n",
       " 14          543         1       3        Andersson, Miss. Sigrid Elisabeth   \n",
       " 15          935         1       1             Kimball, Mr. Edwin Nelson Jr   \n",
       " 16          236         0       3             Harknett, Miss. Alice Phoebe   \n",
       " 17          659         1       2             Eitemiller, Mr. George Floyd   \n",
       " 18          891         1       1                    Behr, Mr. Karl Howell   \n",
       " 19          164         1       3               Bengtsson, Mr. John Viktor   \n",
       " \n",
       "        Sex   Age  SibSp  Parch              Ticket      Fare    Cabin Embarked  \n",
       " 0     male  28.0      0      0          C.A. 31029   31.0000     None        S  \n",
       " 1   female  31.0      1      0  SOTON/O.Q. 3101317   13.0000     None        S  \n",
       " 2   female  45.0      1      1              363272    7.0000     None        S  \n",
       " 3     male  61.0      0      0              240276    9.6875     None        Q  \n",
       " 4     male  33.0      0      0              371109    6.4958     None        Q  \n",
       " 5     male  74.0      0      0                7538    9.2250     None        S  \n",
       " 6     male   9.0      4      1              382652   29.1250     None        Q  \n",
       " 7   female  26.0      2      2              347742   11.1333     None        S  \n",
       " 8   female  14.0      1      2              113760  120.0000  B96 B98        S  \n",
       " 9     male  23.0      1      1               11751   52.5542      D35        S  \n",
       " 10    male  32.0      0      0              230433   26.0000     None        S  \n",
       " 11    male  27.0      0      0              347078    7.7500     None        S  \n",
       " 12    male  41.0      0      0                3411    8.7125     None        C  \n",
       " 13    male  36.0      1      0               19877   78.8500      C46        S  \n",
       " 14  female  11.0      4      2              347082   31.2750     None        S  \n",
       " 15    male  42.0      1      0               11753   52.5542      D19        S  \n",
       " 16  female  28.0      0      0          W./C. 6607   23.4500     None        S  \n",
       " 17    male  35.0      0      0               29751   13.0000     None        S  \n",
       " 18    male  26.0      0      0              111369   30.0000     C148        C  \n",
       " 19    male  26.0      0      0              347068    7.7750     None        S  }"
      ]
     },
     "execution_count": 13,
     "metadata": {},
     "output_type": "execute_result"
    }
   ],
   "execution_count": 13
  },
  {
   "metadata": {},
   "cell_type": "code",
   "outputs": [],
   "execution_count": null,
   "source": "",
   "id": "dc0934259d207756"
  }
 ],
 "metadata": {
  "kernelspec": {
   "display_name": "Python 3",
   "language": "python",
   "name": "python3"
  },
  "language_info": {
   "codemirror_mode": {
    "name": "ipython",
    "version": 2
   },
   "file_extension": ".py",
   "mimetype": "text/x-python",
   "name": "python",
   "nbconvert_exporter": "python",
   "pygments_lexer": "ipython2",
   "version": "2.7.6"
  }
 },
 "nbformat": 4,
 "nbformat_minor": 5
}
