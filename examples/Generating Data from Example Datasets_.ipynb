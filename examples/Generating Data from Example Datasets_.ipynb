{
 "cells": [
  {
   "metadata": {},
   "cell_type": "markdown",
   "source": "# Generating Data from Examples Data",
   "id": "c54a70af4154fab7"
  },
  {
   "metadata": {},
   "cell_type": "markdown",
   "source": "Discover how to extract data structures from existing CSV files and use those structures to generate new data. This notebook demonstrates how to replicate the structure of sample data with new synthesized content using DataWizzAI, making it ideal for data replication and augmentation.",
   "id": "620c87bfb522437f"
  },
  {
   "metadata": {},
   "cell_type": "markdown",
   "source": "# Initial Setup Guide",
   "id": "e232785e685f4b0c"
  },
  {
   "metadata": {},
   "cell_type": "markdown",
   "source": "## Import Required Packages",
   "id": "10727a865192975b"
  },
  {
   "metadata": {
    "ExecuteTime": {
     "end_time": "2024-08-06T21:52:10.127746Z",
     "start_time": "2024-08-06T21:52:08.791164Z"
    }
   },
   "cell_type": "code",
   "source": [
    "# First, import all the necessary packages.\n",
    "from langchain_openai import ChatOpenAI\n",
    "from src.DataGenerationPipeline import *\n",
    "from src.Pipeline import *\n",
    "from src.utils.utils import create_json_sample_from_csv\n"
   ],
   "id": "82eb9a9bc9f03062",
   "outputs": [],
   "execution_count": 1
  },
  {
   "metadata": {
    "ExecuteTime": {
     "end_time": "2024-08-06T21:52:10.139095Z",
     "start_time": "2024-08-06T21:52:10.128752Z"
    }
   },
   "cell_type": "code",
   "source": [
    "## Load Environment Variables\n",
    "\n",
    "from dotenv import load_dotenv, find_dotenv\n",
    "_ = load_dotenv(find_dotenv())\n"
   ],
   "id": "1434f6fe6ac96342",
   "outputs": [],
   "execution_count": 2
  },
  {
   "metadata": {},
   "cell_type": "markdown",
   "source": "## Initialize the Language Model",
   "id": "49b35d8b80eff6df"
  },
  {
   "metadata": {
    "ExecuteTime": {
     "end_time": "2024-08-06T21:52:10.676554Z",
     "start_time": "2024-08-06T21:52:10.139095Z"
    }
   },
   "cell_type": "code",
   "source": [
    "# Please make sure OPENAI_API_KEY is loaded to your environment variables\n",
    "# Initialize language model\n",
    "llm = ChatOpenAI(temperature=0.9, model=\"gpt-3.5-turbo\")\n"
   ],
   "id": "b497932a419ec517",
   "outputs": [],
   "execution_count": 3
  },
  {
   "metadata": {},
   "cell_type": "markdown",
   "source": "# Extract Data Structure from CSV",
   "id": "137c57bf399362c9"
  },
  {
   "metadata": {},
   "cell_type": "markdown",
   "source": "To begin, you'll need to specify the path to your CSV file and the file name. Then, use the create_json_sample_from_csv function to extract the data structure.",
   "id": "2e6a1cb692b74326"
  },
  {
   "metadata": {
    "ExecuteTime": {
     "end_time": "2024-08-06T21:52:10.687621Z",
     "start_time": "2024-08-06T21:52:10.676554Z"
    }
   },
   "cell_type": "code",
   "source": [
    "import os\n",
    "import pandas as pd\n",
    "# Specify the path and file name\n",
    "path = r'C:\\Users\\Sigal\\data\\\\'\n",
    "file_name = r\"titanic.csv\"\n",
    "\n",
    "# Extract data structure from the CSV file\n",
    "dataStructureSample = create_json_sample_from_csv(path, file_name)\n",
    "print(dataStructureSample)"
   ],
   "id": "7905f2361902fb58",
   "outputs": [
    {
     "name": "stdout",
     "output_type": "stream",
     "text": [
      "{\"titanic.csv\": [{\"PassengerId\":158,\"Survived\":0,\"Pclass\":3,\"Name\":\"Corn, Mr. Harry\",\"Sex\":\"male\",\"Age\":30.0,\"SibSp\":0,\"Parch\":0,\"Ticket\":\"SOTON\\/OQ 392090\",\"Fare\":8.05,\"Cabin\":null,\"Embarked\":\"S\"},{\"PassengerId\":863,\"Survived\":1,\"Pclass\":1,\"Name\":\"Swift, Mrs. Frederick Joel (Margaret Welles Barron)\",\"Sex\":\"female\",\"Age\":48.0,\"SibSp\":0,\"Parch\":0,\"Ticket\":\"17466\",\"Fare\":25.9292,\"Cabin\":\"D17\",\"Embarked\":\"S\"},{\"PassengerId\":394,\"Survived\":1,\"Pclass\":1,\"Name\":\"Newell, Miss. Marjorie\",\"Sex\":\"female\",\"Age\":23.0,\"SibSp\":1,\"Parch\":0,\"Ticket\":\"35273\",\"Fare\":113.275,\"Cabin\":\"D36\",\"Embarked\":\"C\"},{\"PassengerId\":441,\"Survived\":1,\"Pclass\":2,\"Name\":\"Hart, Mrs. Benjamin (Esther Ada Bloomfield)\",\"Sex\":\"female\",\"Age\":45.0,\"SibSp\":1,\"Parch\":1,\"Ticket\":\"F.C.C. 13529\",\"Fare\":26.25,\"Cabin\":null,\"Embarked\":\"S\"},{\"PassengerId\":794,\"Survived\":0,\"Pclass\":1,\"Name\":\"Hoyt, Mr. William Fisher\",\"Sex\":\"male\",\"Age\":null,\"SibSp\":0,\"Parch\":0,\"Ticket\":\"PC 17600\",\"Fare\":30.6958,\"Cabin\":null,\"Embarked\":\"C\"}]}\n"
     ]
    }
   ],
   "execution_count": 4
  },
  {
   "metadata": {},
   "cell_type": "markdown",
   "source": "## Initialize Data Generator and Preview Data\n",
   "id": "c218ea50028cb43d"
  },
  {
   "metadata": {},
   "cell_type": "markdown",
   "source": [
    "With the data structure extracted, you're ready to initialize the DataGenerationPipeline object, and run the extract_sample_data method for viewing a sample of the created data, mainly to make sure you got the desired data structure. \n",
    "\n",
    "Pass pipelineName = DataGenerationPipelineObj.Pipeline.ExamplesDataframeToTabular to direct the generator to use the \"examples to table\" pipeline."
   ],
   "id": "4db58c464e6adf1e"
  },
  {
   "metadata": {
    "ExecuteTime": {
     "end_time": "2024-08-06T21:52:10.698371Z",
     "start_time": "2024-08-06T21:52:10.687621Z"
    }
   },
   "cell_type": "code",
   "source": [
    "DataGenerationPipelineObj = DataGenerationPipeline(llm=llm)\n",
    "print(DataGenerationPipelineObj.extract_sample_data(description=dataStructureSample,pipelineName=Pipeline.ExamplesDataframeToTabular, outputFormat=2))"
   ],
   "id": "fb14a7f870e745d7",
   "outputs": [
    {
     "name": "stdout",
     "output_type": "stream",
     "text": [
      "{'titanic.csv':    PassengerId  Survived  Pclass  \\\n",
      "0          158         0       3   \n",
      "1          863         1       1   \n",
      "2          394         1       1   \n",
      "3          441         1       2   \n",
      "4          794         0       1   \n",
      "\n",
      "                                                Name     Sex   Age  SibSp  \\\n",
      "0                                    Corn, Mr. Harry    male  30.0      0   \n",
      "1  Swift, Mrs. Frederick Joel (Margaret Welles Ba...  female  48.0      0   \n",
      "2                             Newell, Miss. Marjorie  female  23.0      1   \n",
      "3        Hart, Mrs. Benjamin (Esther Ada Bloomfield)  female  45.0      1   \n",
      "4                           Hoyt, Mr. William Fisher    male   NaN      0   \n",
      "\n",
      "   Parch           Ticket      Fare Cabin Embarked  \n",
      "0      0  SOTON/OQ 392090    8.0500  None        S  \n",
      "1      0            17466   25.9292   D17        S  \n",
      "2      0            35273  113.2750   D36        C  \n",
      "3      1     F.C.C. 13529   26.2500  None        S  \n",
      "4      0         PC 17600   30.6958  None        C  }\n"
     ]
    }
   ],
   "execution_count": 5
  },
  {
   "metadata": {},
   "cell_type": "markdown",
   "source": "## Set Examples Data (Optional) and Generate Data\n",
   "id": "70a482d942725182"
  },
  {
   "metadata": {},
   "cell_type": "markdown",
   "source": "If you want the generated data to be influenced by examples from your original dataset, you can set a dictinary holding the examples (with the data name as key and the pandas dataframe as item) within your DataGenerationPipeline object.",
   "id": "8e93787bac5df37c"
  },
  {
   "metadata": {
    "ExecuteTime": {
     "end_time": "2024-08-06T21:52:10.708126Z",
     "start_time": "2024-08-06T21:52:10.698371Z"
    }
   },
   "cell_type": "code",
   "source": [
    "# Construct the full file path\n",
    "full_file_path = os.path.join(path, file_name)\n",
    "\n",
    "# Read the CSV file into a DataFrame\n",
    "df = pd.read_csv(full_file_path)\n",
    "\n",
    "examples_dict = {file_name:df}"
   ],
   "id": "1322c08c161ca09d",
   "outputs": [],
   "execution_count": 6
  },
  {
   "metadata": {},
   "cell_type": "markdown",
   "source": "Finally, you can generate as much data as you need (set the num_records accordingly) based on the extracted structure and any example data provided.",
   "id": "bbfe312f6fcf78e2"
  },
  {
   "metadata": {},
   "cell_type": "markdown",
   "source": "Optional: Use the parameter examples_dataframe_dict to pass the full set of examples.",
   "id": "a3266846284d09d2"
  },
  {
   "metadata": {
    "ExecuteTime": {
     "end_time": "2024-08-06T21:52:39.008677Z",
     "start_time": "2024-08-06T21:52:10.708126Z"
    }
   },
   "cell_type": "code",
   "source": "DataGenerationPipelineObj.generate_data(num_records=23, run_in_parallel=False, examples_dataframe_dict=examples_dict)",
   "id": "5cb1e18910927721",
   "outputs": [
    {
     "data": {
      "text/plain": [
       "{'titanic.csv':     PassengerId  Survived  Pclass  \\\n",
       " 0           102         1       1   \n",
       " 1           429         0       3   \n",
       " 2           646         0       1   \n",
       " 3           753         1       3   \n",
       " 4           518         1       3   \n",
       " 5           961         1       1   \n",
       " 6           189         0       3   \n",
       " 7           572         1       1   \n",
       " 8           804         0       3   \n",
       " 9           658         0       3   \n",
       " 10          152         1       2   \n",
       " 11          578         0       3   \n",
       " 12          808         0       3   \n",
       " 13          534         1       3   \n",
       " 14          911         1       1   \n",
       " 15          313         0       2   \n",
       " 16          103         1       1   \n",
       " 17          876         1       3   \n",
       " 18          812         0       3   \n",
       " 19          114         0       3   \n",
       " 20          279         1       1   \n",
       " 21          706         0       2   \n",
       " 22          409         0       3   \n",
       " \n",
       "                                                Name     Sex    Age  SibSp  \\\n",
       " 0                         Stead, Mr. William Thomas    male  62.00      0   \n",
       " 1                                  Flynn, Mr. James    male  25.00      0   \n",
       " 2                         Harper, Mr. Henry Sleeper    male  48.00      1   \n",
       " 3                  Vande Velde, Mr. Johannes Joseph    male  33.00      0   \n",
       " 4                                 Ryan, Mr. Patrick    male  45.00      0   \n",
       " 5                        Fortune, Miss. Mabel Helen  female  23.00      3   \n",
       " 6                                  Bourke, Mr. John    male  40.00      1   \n",
       " 7     Appleton, Mrs. Edward Dale (Charlotte Lamson)  female  53.00      2   \n",
       " 8                   Thomas, Master. Assad Alexander    male   0.42      0   \n",
       " 9                     Bourke, Mrs. John (Catherine)  female  32.00      1   \n",
       " 10                         Thompson, Miss. Margaret  female  26.00      1   \n",
       " 11                          Heald, Mr. Thomas Henry    male  18.00      0   \n",
       " 12                       Pettersson, Mr. Johan Emil    male  25.00      1   \n",
       " 13                               Elias, Mr. Tannous    male  15.00      1   \n",
       " 14                      Chaudanson, Miss. Victorine  female  36.00      0   \n",
       " 15            Lahtinen, Mrs. William (Anna Sylfven)  female  26.00      1   \n",
       " 16                        White, Mr. Richard Frasar    male  21.00      0   \n",
       " 17                   Najib, Miss. Adele Kiamie Jane  female  15.00      0   \n",
       " 18                                Lester, Mr. James    male  39.00      0   \n",
       " 19                    Jussila, Miss. Kristina Sofia  female  45.00      1   \n",
       " 20  Baxter, Mrs. James (Helene DeLaudeniere Chaput)  female  50.00      0   \n",
       " 21                              Morley, Mr. William    male  34.00      0   \n",
       " 22                Birkeland, Mr. Hans Martin Monsen    male  21.00      0   \n",
       " \n",
       "     Parch     Ticket      Fare        Cabin Embarked  \n",
       " 0       0     113514   26.5500          C87        S  \n",
       " 1       0     364851    7.7500         None        Q  \n",
       " 2       0   PC 17572   76.7292          D33        C  \n",
       " 3       0     345780    9.5000         None        S  \n",
       " 4       0     371110   24.1500         None        Q  \n",
       " 5       2      19950  263.0000  C23 C25 C27        S  \n",
       " 6       1     364849   15.5000         None        Q  \n",
       " 7       0      11769   51.4792         C101        S  \n",
       " 8       1       2625    8.5167         None        C  \n",
       " 9       1     364849   15.5000         None        Q  \n",
       " 10      1     248733   13.0000         None        S  \n",
       " 11      0     323592    7.2500         None        S  \n",
       " 12      0     347076    7.7750         None        S  \n",
       " 13      1       2690    7.2292         None        C  \n",
       " 14      0   PC 17608  262.3750          B61        C  \n",
       " 15      1     250651   26.0000         None        S  \n",
       " 16      1      35281   77.2875          D26        S  \n",
       " 17      0       2667    7.2250         None        C  \n",
       " 18      0  A/4 48871   24.1500         None        S  \n",
       " 19      0       4136    9.8250         None        S  \n",
       " 20      1   PC 17558  247.5208      B58 B60        C  \n",
       " 21      0     250655   26.0000         None        S  \n",
       " 22      0     312992    7.7750         None        S  }"
      ]
     },
     "execution_count": 7,
     "metadata": {},
     "output_type": "execute_result"
    }
   ],
   "execution_count": 7
  },
  {
   "metadata": {},
   "cell_type": "markdown",
   "source": "## Generate Data in Parallel",
   "id": "ae885c251cb980c"
  },
  {
   "metadata": {},
   "cell_type": "markdown",
   "source": "For more efficient data generation, especially when dealing with large datasets or multiple requests, you can set the run_in_parallel parameter to True to generate your data asynchronously.\n",
   "id": "ca8214fbbffb33cb"
  },
  {
   "metadata": {},
   "cell_type": "markdown",
   "source": "To ensure smooth parallel execution, especially within environments that don't natively support asynchronous operations (like Jupyter notebooks), we use nest_asyncio. This module allows asyncio to run inside environments with their own event loops.",
   "id": "21d5106819923724"
  },
  {
   "metadata": {},
   "cell_type": "markdown",
   "source": "### Setup for Parallel Execution",
   "id": "a548af052bdd1a91"
  },
  {
   "metadata": {
    "ExecuteTime": {
     "end_time": "2024-08-06T21:53:10.278958Z",
     "start_time": "2024-08-06T21:53:02.189289Z"
    }
   },
   "cell_type": "code",
   "source": [
    "import nest_asyncio\n",
    "nest_asyncio.apply()\n",
    "DataGenerationPipelineObj.generate_data(num_records=79, run_in_parallel=True)\n"
   ],
   "id": "6f182b4e64198b5",
   "outputs": [
    {
     "data": {
      "text/plain": [
       "{'titanic.csv':     PassengerId  Survived  Pclass                                  Name  \\\n",
       " 0           215         1       2                   Watson, Miss. Grace   \n",
       " 1           762         0       3               Calderhead, Mr. William   \n",
       " 2           631         0       3  Hagland, Mr. Konrad Mathias Reiersen   \n",
       " 3           504         1       1                 Maioni, Miss. Roberta   \n",
       " 4           127         0       3                    McKamey, Mr. Peter   \n",
       " ..          ...       ...     ...                                   ...   \n",
       " 74          498         0       1                     Smith, Mr. Robert   \n",
       " 75         1024         0       3                      Baker, Mr. Henry   \n",
       " 76          701         1       1                 Jones, Mrs. Elizabeth   \n",
       " 77          391         1       2                 Walker, Miss. Abigail   \n",
       " 78          119         0       3                   Murphy, Mr. Patrick   \n",
       " \n",
       "        Sex   Age  SibSp  Parch     Ticket      Fare    Cabin Embarked  \n",
       " 0   female  19.0      0      2  C.A. 2315   29.1250     None        Q  \n",
       " 1     male  25.0      0      0     315089    8.6625     None        S  \n",
       " 2     male  25.0      1      0      65303   19.9667     None        S  \n",
       " 3   female  16.0      0      0     110152   86.5000      B79        S  \n",
       " 4     male  32.0      0      0     376566   16.1000     None        S  \n",
       " ..     ...   ...    ...    ...        ...       ...      ...      ...  \n",
       " 74    male  25.0      0      0     113781  151.5500  C22 C26        S  \n",
       " 75    male  32.0      0      0   A/5 3540    8.0500     None        S  \n",
       " 76  female  55.0      1      1      17757  227.5250  C62 C64        C  \n",
       " 77  female  26.0      0      0      28034   10.5000     None        S  \n",
       " 78    male   NaN      0      0      36568   15.5000     None        Q  \n",
       " \n",
       " [79 rows x 12 columns]}"
      ]
     },
     "execution_count": 9,
     "metadata": {},
     "output_type": "execute_result"
    }
   ],
   "execution_count": 9
  },
  {
   "metadata": {},
   "cell_type": "markdown",
   "source": "## Query/filter the data structure to control the generated content",
   "id": "dc10bc5fbe27f631"
  },
  {
   "metadata": {
    "ExecuteTime": {
     "end_time": "2024-08-06T21:53:28.846048Z",
     "start_time": "2024-08-06T21:53:16.062420Z"
    }
   },
   "cell_type": "code",
   "source": [
    "# You can also add queries and filters to guide the generated contents:\n",
    "language = 'English'\n",
    "query = \"Only female survivors should be included in the generated data\"\n",
    "\n",
    "DataGenerationPipelineObj.query_sample_data(query=query, language=language, outputFormat=2)"
   ],
   "id": "bffd7e18022b899c",
   "outputs": [
    {
     "data": {
      "text/plain": [
       "{'titanic.csv':    PassengerId  Survived  Pclass                       Name     Sex   Age  \\\n",
       " 0          527         1       1  Anderson, Miss. Elizabeth  female  29.0   \n",
       " 1          742         1       1   Carter, Mrs. Lucile Polk  female  36.0   \n",
       " 2          843         1       1         Seward, Miss. Anna  female  35.0   \n",
       " \n",
       "    SibSp  Parch  Ticket     Fare    Cabin Embarked  \n",
       " 0      0      0   17757  227.525  C62 C64        C  \n",
       " 1      1      2  113760  120.000  B96 B98        S  \n",
       " 2      0      0  113794   26.550     None        S  }"
      ]
     },
     "execution_count": 10,
     "metadata": {},
     "output_type": "execute_result"
    }
   ],
   "execution_count": 10
  },
  {
   "metadata": {},
   "cell_type": "markdown",
   "source": [
    "To generate the full dataset, use the generate_data method. Specify your query (if any), optionaly the region and language, and the number of records you wish to generate. \n",
    "Note: don't send the original examples dictionary as it may override your query."
   ],
   "id": "d6e68d6a9845491d"
  },
  {
   "metadata": {
    "ExecuteTime": {
     "end_time": "2024-08-06T21:53:48.359444Z",
     "start_time": "2024-08-06T21:53:31.032190Z"
    }
   },
   "cell_type": "code",
   "source": "DataGenerationPipelineObj.generate_data(num_records=20, run_in_parallel=False, examples_dataframe_dict=examples_dict, query=query, language=language)",
   "id": "551e02c804ee08d7",
   "outputs": [
    {
     "data": {
      "text/plain": [
       "{'titanic.csv':     PassengerId  Survived  Pclass                                   Name  \\\n",
       " 0           125         1       1                Anderson, Miss. Eleanor   \n",
       " 1           230         1       1         Hays, Miss. Margaret Bechstein   \n",
       " 2           689         1       3                     Murphy, Miss. Nora   \n",
       " 3           411         1       3                  Cotterill, Miss. Rene   \n",
       " 4           512         1       3                    Webber, Miss. Susan   \n",
       " 5           712         1       1                    Klaber, Miss. Annie   \n",
       " 6           825         1       2                 Botsford, Miss. Amelia   \n",
       " 7           944         1       2                   Hocking, Miss. Alice   \n",
       " 8           765         1       1           Allison, Miss. Helen Loraine   \n",
       " 9           841         1       3                     Mangan, Miss. Mary   \n",
       " 10          505         1       1              Henderson, Miss. Beatrice   \n",
       " 11          719         1       3                   Johnson, Miss. Emily   \n",
       " 12          819         1       3             McCoy, Miss. Grace Charity   \n",
       " 13          701         1       1                     Endres, Miss. Sara   \n",
       " 14          819         1       3                 Watson, Miss. Ella Mae   \n",
       " 15          609         1       2                   Seward, Miss. Louise   \n",
       " 16          569         1       1                    Bishop, Miss. Julia   \n",
       " 17          964         1       1            Stephenson, Miss. Elizabeth   \n",
       " 18          786         1       3                    Bennett, Miss. Lily   \n",
       " 19          283         1       3  Carlsson, Miss. Hulda Amanda Adolfina   \n",
       " \n",
       "        Sex   Age  SibSp  Parch      Ticket      Fare    Cabin Embarked  \n",
       " 0   female  19.0      1      0       27042   30.0000     C132        S  \n",
       " 1   female  24.0      0      0       11767   83.1583       C2        C  \n",
       " 2   female  25.0      0      0      367230   15.5000     None        Q  \n",
       " 3   female  33.0      1      1  C.A. 37671   15.9000     None        S  \n",
       " 4   female  32.0      0      0  C.A. 34651   27.7500     None        S  \n",
       " 5   female  76.0      0      0      113028   26.5500     C124        S  \n",
       " 6   female  20.0      0      0      237668   13.0000     None        S  \n",
       " 7   female  27.0      1      0       29104   11.5000     None        S  \n",
       " 8   female   2.0      1      2      113781  151.5500  C22 C26        S  \n",
       " 9   female  30.0      0      0      364850    7.7500     None        Q  \n",
       " 10  female  42.0      1      0       16966  134.5000      E40        C  \n",
       " 11  female  18.0      0      0      347742   11.1333     None        S  \n",
       " 12  female  26.0      1      0      367226   23.2500     None        Q  \n",
       " 13  female  24.0      0      0    PC 17757  227.5250      C45        C  \n",
       " 14  female  33.0      0      0      226875   26.0000     None        S  \n",
       " 15  female  30.0      0      0      237671   13.0000      D40        C  \n",
       " 16  female  29.0      0      0       11967   91.0792      B49        C  \n",
       " 17  female  28.0      0      0       17563   51.5500      E46        S  \n",
       " 18  female  31.0      0      0      237736   30.0708     None        C  \n",
       " 19  female  33.0      0      0      347082   31.2750     None        S  }"
      ]
     },
     "execution_count": 11,
     "metadata": {},
     "output_type": "execute_result"
    }
   ],
   "execution_count": 11
  }
 ],
 "metadata": {
  "kernelspec": {
   "display_name": "Python 3",
   "language": "python",
   "name": "python3"
  },
  "language_info": {
   "codemirror_mode": {
    "name": "ipython",
    "version": 2
   },
   "file_extension": ".py",
   "mimetype": "text/x-python",
   "name": "python",
   "nbconvert_exporter": "python",
   "pygments_lexer": "ipython2",
   "version": "2.7.6"
  }
 },
 "nbformat": 4,
 "nbformat_minor": 5
}
